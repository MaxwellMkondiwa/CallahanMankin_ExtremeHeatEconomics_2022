{
 "cells": [
  {
   "cell_type": "markdown",
   "metadata": {},
   "source": [
    "# Impulse-response functions based on the distributed lag models\n",
    "#### Christopher Callahan\n",
    "#### Christopher.W.Callahan.GR@dartmouth.edu"
   ]
  },
  {
   "cell_type": "markdown",
   "metadata": {},
   "source": [
    "The idea here is that we want to force the DL coefficients to equal zero at some time so that the growth effects are explicitly not permanent -- IRF refers to the time structure of a dose-response function. "
   ]
  },
  {
   "cell_type": "markdown",
   "metadata": {},
   "source": [
    "#### Mechanics\n",
    "Dependencies"
   ]
  },
  {
   "cell_type": "code",
   "execution_count": 2,
   "metadata": {},
   "outputs": [],
   "source": [
    "import xarray as xr\n",
    "import numpy as np\n",
    "import sys\n",
    "import os\n",
    "import datetime\n",
    "import pandas as pd"
   ]
  },
  {
   "cell_type": "markdown",
   "metadata": {},
   "source": [
    "Data location"
   ]
  },
  {
   "cell_type": "code",
   "execution_count": 4,
   "metadata": {},
   "outputs": [],
   "source": [
    "loc_regression = \"../Data/RegressionResults/\"\n",
    "loc_out = \"..Data/IRFs/\""
   ]
  },
  {
   "cell_type": "markdown",
   "metadata": {},
   "source": [
    "#### Analysis"
   ]
  },
  {
   "cell_type": "markdown",
   "metadata": {},
   "source": [
    "Initial stuff"
   ]
  },
  {
   "cell_type": "code",
   "execution_count": 5,
   "metadata": {},
   "outputs": [],
   "source": [
    "nlag = 5 # when reading in DL model results\n",
    "boot_type = \"region\"\n",
    "lags = np.arange(0,nlag+1,1)"
   ]
  },
  {
   "cell_type": "code",
   "execution_count": 6,
   "metadata": {},
   "outputs": [
    {
     "name": "stdout",
     "output_type": "stream",
     "text": [
      "tx5d\n",
      "/dartfs-hpc/rc/lab/C/CMIG/ccallahan/Extremes_Economics/Data/IRFs/SciAdv_Revision1/tx5d_impulse-response_coefficients_bootstrap_region_lag5.nc\n",
      "temperature\n",
      "/dartfs-hpc/rc/lab/C/CMIG/ccallahan/Extremes_Economics/Data/IRFs/SciAdv_Revision1/temperature_impulse-response_coefficients_tx5d_model_bootstrap_region_lag5.nc\n",
      "variability\n",
      "/dartfs-hpc/rc/lab/C/CMIG/ccallahan/Extremes_Economics/Data/IRFs/SciAdv_Revision1/variability_impulse-response_coefficients_tx5d_model_bootstrap_region_lag5.nc\n"
     ]
    }
   ],
   "source": [
    "extr = \"tx5d\"\n",
    "convergence_years = [3,np.nan,4]\n",
    "\n",
    "vrs = [extr,\"temperature\",\"variability\"]\n",
    "\n",
    "for vv in np.arange(0,len(vrs),1):\n",
    "    v = vrs[vv]\n",
    "    convergence_year = convergence_years[vv]\n",
    "    print(v)\n",
    "\n",
    "    if v == extr:\n",
    "        coefs_main = pd.read_csv(loc_regression+extr+\"_coefs_bootstrap_\"+boot_type+\"_lag\"+str(nlag)+\".csv\",index_col=0)\n",
    "        coefs_interact = pd.read_csv(loc_regression+extr+\"_coefs_interact_bootstrap_\"+boot_type+\"_lag\"+str(nlag)+\".csv\",index_col=0)\n",
    "    elif v == \"variability\":\n",
    "        coefs_main = pd.read_csv(loc_regression+v+\"_coefs_\"+extr+\"_model_bootstrap_\"+boot_type+\"_lag\"+str(nlag)+\".csv\",index_col=0)\n",
    "        coefs_interact = pd.read_csv(loc_regression+v+\"_coefs_interact_\"+extr+\"_model_bootstrap_\"+boot_type+\"_lag\"+str(nlag)+\".csv\",index_col=0)\n",
    "    elif v == \"temperature\":\n",
    "        coefs_main = pd.read_csv(loc_regression+v+\"_coefs_\"+extr+\"_model_bootstrap_\"+boot_type+\"_lag\"+str(nlag)+\".csv\",index_col=0)\n",
    "        ## temperature only has a significant interaction with tx5d, not with itself (i.e., the t^2 term is not significant)\n",
    "        coefs_interact = pd.read_csv(loc_regression+extr+\"_coefs_interact_bootstrap_\"+boot_type+\"_lag\"+str(nlag)+\".csv\",index_col=0)\n",
    "    \n",
    "    reg_boot = coefs_main.boot.values\n",
    "    nboot = len(reg_boot)\n",
    "\n",
    "    coefs_main_xr = xr.DataArray(coefs_main.iloc[:,1:].values,\n",
    "                            coords=[reg_boot,lags],dims=[\"reg_boot\",\"lag\"])\n",
    "    coefs_int_xr = xr.DataArray(coefs_interact.iloc[:,1:].values,\n",
    "                            coords=[reg_boot,lags],dims=[\"reg_boot\",\"lag\"])\n",
    "    \n",
    "    \n",
    "    # now construct IRF out to desired convergence year\n",
    "    if ~np.isnan(convergence_year):\n",
    "        \n",
    "        lags2 = np.arange(0,convergence_year+1,1)\n",
    "        coef_main_irf = xr.DataArray(np.zeros((nboot,convergence_year+1)),\n",
    "                                    coords=[reg_boot,lags2],dims=[\"reg_boot\",\"lag\"])\n",
    "        coef_int_irf = xr.DataArray(np.zeros((nboot,convergence_year+1)),\n",
    "                                    coords=[reg_boot,lags2],dims=[\"reg_boot\",\"lag\"])\n",
    "\n",
    "        # initial response\n",
    "        coef_main_irf[:,0] = coefs_main_xr[:,0].values\n",
    "        coef_int_irf[:,0] = coefs_int_xr[:,0].values\n",
    "\n",
    "        # peak in desired year\n",
    "        for x in np.arange(1,convergence_year,1):\n",
    "            ls = list(np.arange(0,x+1,1))\n",
    "            coef_main_irf[:,x] = coefs_main_xr.loc[:,ls].sum(dim=\"lag\")\n",
    "            coef_int_irf[:,x] = coefs_int_xr.loc[:,ls].sum(dim=\"lag\")\n",
    "\n",
    "        # last period cumulative response already zero (since we used np.zeros)\n",
    "\n",
    "        # now differentiate to produce the actual coefficients that yield that cumulative response\n",
    "        coef_main_irf_final = xr.concat([coef_main_irf.loc[:,0],coef_main_irf.diff(\"lag\",1)],dim=\"lag\")\n",
    "        coef_int_irf_final = xr.concat([coef_int_irf.loc[:,0],coef_int_irf.diff(\"lag\",1)],dim=\"lag\")\n",
    "        \n",
    "    else:\n",
    "        \n",
    "        ## if it never converges to zero, the IRF coefficients are just\n",
    "        ## the same as the DL coefficients\n",
    "\n",
    "        coef_main_irf_final = coefs_main_xr*1.0\n",
    "        coef_int_irf_final = coefs_int_xr*1.0\n",
    "    \n",
    "    # write out data\n",
    "    irf_ds = xr.Dataset({\"coef_main\":([\"reg_boot\",\"lag\"],coef_main_irf_final),\n",
    "                         \"coef_interact\":([\"reg_boot\",\"lag\"],coef_int_irf_final)},\n",
    "                        coords={\"reg_boot\":([\"reg_boot\"],coef_main_irf_final.reg_boot),\n",
    "                                \"lag\":([\"lag\"],coef_main_irf_final.lag)})\n",
    "\n",
    "    irf_ds.attrs[\"creation_date\"] = str(datetime.datetime.now())\n",
    "    irf_ds.attrs[\"created_by\"] = \"Christopher Callahan, Christopher.W.Callahan.GR@dartmouth.edu\"\n",
    "    irf_ds.attrs[\"variable_description\"] = \"Impulse-response functions for each variable's effect on subnational economic growth\"\n",
    "    irf_ds.attrs[\"created_from\"] = os.getcwd()+\"/Calculate_IRFs.ipynb\"\n",
    "    irf_ds.attrs[\"dims\"] = \"reg_boot x lag\"\n",
    "    \n",
    "    if v == extr:\n",
    "        fname_out = loc_out+extr+\"_impulse-response_coefficients_bootstrap_\"+boot_type+\"_lag\"+str(nlag)+\".nc\"\n",
    "    else:\n",
    "        fname_out = loc_out+v+\"_impulse-response_coefficients_\"+extr+\"_model_bootstrap_\"+boot_type+\"_lag\"+str(nlag)+\".nc\"\n",
    "    irf_ds.to_netcdf(fname_out,mode=\"w\")\n",
    "    print(fname_out,flush=True)"
   ]
  },
  {
   "cell_type": "code",
   "execution_count": null,
   "metadata": {},
   "outputs": [],
   "source": []
  }
 ],
 "metadata": {
  "kernelspec": {
   "display_name": "Python ccallahan",
   "language": "python",
   "name": "ccallahan"
  },
  "language_info": {
   "codemirror_mode": {
    "name": "ipython",
    "version": 3
   },
   "file_extension": ".py",
   "mimetype": "text/x-python",
   "name": "python",
   "nbconvert_exporter": "python",
   "pygments_lexer": "ipython3",
   "version": "3.7.3"
  }
 },
 "nbformat": 4,
 "nbformat_minor": 2
}
