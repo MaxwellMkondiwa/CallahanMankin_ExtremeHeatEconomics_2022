{
 "cells": [
  {
   "cell_type": "markdown",
   "metadata": {},
   "source": [
    "# Predicting regional GDP from country GDP\n",
    "#### Christopher Callahan\n",
    "#### Christopher.W.Callahan.GR@dartmouth.edu"
   ]
  },
  {
   "cell_type": "markdown",
   "metadata": {},
   "source": [
    "#### Mechanics\n",
    "Dependencies"
   ]
  },
  {
   "cell_type": "code",
   "execution_count": 1,
   "metadata": {},
   "outputs": [],
   "source": [
    "import xarray as xr\n",
    "import numpy as np\n",
    "import sys\n",
    "import os\n",
    "import datetime\n",
    "import pandas as pd\n",
    "import matplotlib.pyplot as plt\n",
    "from matplotlib import rcParams\n",
    "import matplotlib.colors as colors\n",
    "import matplotlib.gridspec as gridspec\n",
    "import seaborn as sns\n",
    "from rasterio import features\n",
    "from affine import Affine\n",
    "import geopandas as gp\n",
    "import descartes\n",
    "import cartopy as cart\n",
    "import cartopy.crs as ccrs\n",
    "from cartopy.feature import ShapelyFeature\n",
    "from scipy import stats\n",
    "from sklearn.model_selection import KFold\n",
    "import statsmodels.api as sm\n",
    "from statsmodels.formula.api import ols as reg"
   ]
  },
  {
   "cell_type": "markdown",
   "metadata": {},
   "source": [
    "Data locations"
   ]
  },
  {
   "cell_type": "code",
   "execution_count": 2,
   "metadata": {},
   "outputs": [],
   "source": [
    "loc_shp = \"../Data/Shapefile/\"\n",
    "loc_panel = \"../Data/Panel/\"\n",
    "loc_wdi = \"../Data/WDI/GDPpercapita/\"\n",
    "loc_yields = \"../Data/CropYields/\"\n",
    "loc_out = \"../Data/Predicted_Regional_GDP/\"\n",
    "loc_gdp_deflator = \"../Data/GDP_Deflator/\""
   ]
  },
  {
   "cell_type": "markdown",
   "metadata": {},
   "source": [
    "Years"
   ]
  },
  {
   "cell_type": "code",
   "execution_count": 3,
   "metadata": {},
   "outputs": [],
   "source": [
    "y1_in = 1979\n",
    "y2_in = 2016\n",
    "years_in = np.arange(y1_in,y2_in+1,1)\n",
    "y1 = 1992\n",
    "y2 = 2013\n",
    "years = np.arange(y1,y2+1,1)"
   ]
  },
  {
   "cell_type": "markdown",
   "metadata": {},
   "source": [
    "#### Analysis"
   ]
  },
  {
   "cell_type": "markdown",
   "metadata": {},
   "source": [
    "Shapefile and calculate area"
   ]
  },
  {
   "cell_type": "code",
   "execution_count": 4,
   "metadata": {},
   "outputs": [],
   "source": [
    "shp = gp.read_file(loc_shp+\"gadm36_1.shp\")\n",
    "shp = shp.rename(columns={\"GID_1\":\"region\"})\n",
    "shp[\"area\"] = shp.to_crs({'proj':'cea'}).geometry.area/10**6"
   ]
  },
  {
   "cell_type": "markdown",
   "metadata": {},
   "source": [
    "Read panel"
   ]
  },
  {
   "cell_type": "code",
   "execution_count": 5,
   "metadata": {},
   "outputs": [],
   "source": [
    "edd_type = \"month\"\n",
    "panel = pd.read_csv(loc_panel+\"extremes_growth_panel_\"+edd_type+\"edd_1979-2016.csv\",index_col=0)\n",
    "panel[\"iso\"] = [x[0:3] for x in panel.region.values]"
   ]
  },
  {
   "cell_type": "code",
   "execution_count": 6,
   "metadata": {},
   "outputs": [],
   "source": [
    "panel_final = panel.loc[(panel.time>=y1)&(panel.time<=y2),:]"
   ]
  },
  {
   "cell_type": "markdown",
   "metadata": {},
   "source": [
    "Read GDP deflator to convert WDI to 2010 dollars"
   ]
  },
  {
   "cell_type": "code",
   "execution_count": 7,
   "metadata": {},
   "outputs": [],
   "source": [
    "gdp_deflator = pd.read_csv(loc_gdp_deflator+\"API_NY.GDP.DEFL.ZS_DS2_en_excel_v2_4353530.csv\")\n",
    "usa_deflator = gdp_deflator.loc[gdp_deflator[\"Country Code\"]==\"USA\",:].iloc[:,4:]\n",
    "usa_deflator_xr = xr.DataArray(usa_deflator.values[0],coords=[np.arange(1960,2021+1,1)],dims=[\"time\"])\n",
    "\n",
    "target_year = 2010\n",
    "deflator_ratio = usa_deflator_xr.loc[target_year]/usa_deflator_xr\n",
    "del([gdp_deflator,usa_deflator,usa_deflator_xr])"
   ]
  },
  {
   "cell_type": "markdown",
   "metadata": {},
   "source": [
    "Read WDI data"
   ]
  },
  {
   "cell_type": "code",
   "execution_count": 8,
   "metadata": {},
   "outputs": [],
   "source": [
    "wdi_data = pd.read_csv(loc_wdi+\"API_NY.GDP.PCAP.CD_DS2_en_csv_v2_3632113.csv\")\n",
    "wdi_data = wdi_data.drop(columns=[\"Country Name\",\"Indicator Code\",\"Indicator Name\"]).rename(columns={\"Country Code\":\"iso\",\"year\":\"time\"})\n",
    "yr_wdi = np.arange(1960,2020+1,1)\n",
    "iso_wdi = wdi_data.iso.values\n",
    "wdi_xr = xr.DataArray(wdi_data.iloc[:,1:].values,coords=[iso_wdi,yr_wdi],dims=[\"iso\",\"time\"])"
   ]
  },
  {
   "cell_type": "code",
   "execution_count": 9,
   "metadata": {},
   "outputs": [],
   "source": [
    "wdi_constant = wdi_xr*deflator_ratio.loc[yr_wdi]"
   ]
  },
  {
   "cell_type": "code",
   "execution_count": 10,
   "metadata": {},
   "outputs": [],
   "source": [
    "# we want to interpolate NA values for a couple countries such as Angola and Iran\n",
    "# who have continuous data but are just missing a couple entries in 1991/2/3\n",
    "# but we won't extrapolate outside the data boundaries -- just fill in NA's\n",
    "# that are in-between existing data\n",
    "interp_iso = [\"AGO\",\"IRN\"]\n",
    "wdi_constant.loc[interp_iso,:] = wdi_constant.loc[interp_iso,:].interpolate_na(dim=\"time\",method=\"linear\")\n",
    "wdi_constant.name = \"gdppc_iso_wdi\"\n",
    "wdi_data_long = wdi_constant.to_dataframe().reset_index()\n",
    "wdi_data_long[\"iso\"] = [str(x) for x in wdi_data_long.iso.values]\n",
    "wdi_data_long[\"time\"] = [int(x) for x in wdi_data_long.time.values]"
   ]
  },
  {
   "cell_type": "code",
   "execution_count": 11,
   "metadata": {},
   "outputs": [],
   "source": [
    "data = pd.merge(panel_final,wdi_data_long,on=[\"time\",\"iso\"],how=\"left\")"
   ]
  },
  {
   "cell_type": "markdown",
   "metadata": {},
   "source": [
    "Read yields and merge"
   ]
  },
  {
   "cell_type": "code",
   "execution_count": 12,
   "metadata": {},
   "outputs": [],
   "source": [
    "y1_yields = 1982\n",
    "y2_yields = 2015\n",
    "yields = pd.read_csv(loc_yields+\"GDHY_mean_yields_region_\"+str(y1_yields)+\"-\"+str(y2_yields)+\".csv\",index_col=0)"
   ]
  },
  {
   "cell_type": "code",
   "execution_count": 13,
   "metadata": {},
   "outputs": [],
   "source": [
    "data = pd.merge(data,yields,on=[\"time\",\"region\"],how=\"left\")"
   ]
  },
  {
   "cell_type": "markdown",
   "metadata": {},
   "source": [
    "Area"
   ]
  },
  {
   "cell_type": "code",
   "execution_count": 14,
   "metadata": {},
   "outputs": [],
   "source": [
    "data = pd.merge(data,shp.loc[:,[\"region\",\"area\"]],on=\"region\",how=\"left\")"
   ]
  },
  {
   "cell_type": "code",
   "execution_count": 15,
   "metadata": {},
   "outputs": [
    {
     "name": "stderr",
     "output_type": "stream",
     "text": [
      "/dartfs-hpc/rc/home/y/f003k8y/.conda/envs/ccallahan/lib/python3.7/site-packages/ipykernel_launcher.py:3: RuntimeWarning: divide by zero encountered in log\n",
      "  This is separate from the ipykernel package so we can avoid doing imports until\n",
      "/dartfs-hpc/rc/home/y/f003k8y/.conda/envs/ccallahan/lib/python3.7/site-packages/ipykernel_launcher.py:3: RuntimeWarning: invalid value encountered in log\n",
      "  This is separate from the ipykernel package so we can avoid doing imports until\n"
     ]
    }
   ],
   "source": [
    "data[\"log_gdppc_region\"] = data.lgdppc_2010*1.0 #data.lgdp_pc_usd*1.0\n",
    "data[\"log_gdppc_iso_wdi\"] = np.log(data.gdppc_iso_wdi.values)\n",
    "data[\"log_pop\"] = np.log(data.population.values)\n",
    "data[\"area_km1k\"] = data.area/1e3\n",
    "#data[\"log_yields\"] = np.log(data.yields.values)\n",
    "data.replace([np.inf, -np.inf], np.nan, inplace=True)"
   ]
  },
  {
   "cell_type": "markdown",
   "metadata": {},
   "source": [
    "Set up models and do cross-validation"
   ]
  },
  {
   "cell_type": "code",
   "execution_count": 16,
   "metadata": {},
   "outputs": [],
   "source": [
    "models = [\"Country GDPpc only\",\"Yields only\",\"Nightlights only\",\n",
    "          \"Area only\",\"Population only\",\n",
    "          \"Country GDPpc and nightlights\",\"Country GDPpc and population\",\\\n",
    "          \"Country GDPpc and yields\",\"Country GDPpc and area\",\\\n",
    "         \"Country GDPpc, nightlights, yields, area, population\"]\n",
    "forms = [\"log_gdppc_iso_wdi\",\"yields\",\"luminosity\",\\\n",
    "        \"area_km1k\",\"log_pop\",\"log_gdppc_iso_wdi + luminosity + log_gdppc_iso_wdi*luminosity\",\\\n",
    "        \"log_gdppc_iso_wdi + log_pop\",\\\n",
    "         \"log_gdppc_iso_wdi + yields\",\"log_gdppc_iso_wdi + area_km1k\",\\\n",
    "         \"log_gdppc_iso_wdi + luminosity + log_gdppc_iso_wdi*luminosity + yields + area_km1k + log_pop\"]"
   ]
  },
  {
   "cell_type": "code",
   "execution_count": 17,
   "metadata": {},
   "outputs": [],
   "source": [
    "k = 10 # number of folks\n",
    "error = np.zeros((k,len(models)))\n",
    "error_pct = np.zeros((k,len(models)))"
   ]
  },
  {
   "cell_type": "code",
   "execution_count": 18,
   "metadata": {},
   "outputs": [],
   "source": [
    "cols = [\"region\",\"time\",\"iso\",\"log_gdppc_region\",\"log_gdppc_iso_wdi\",\"log_pop\",\\\n",
    "        \"yields\",\"luminosity\",\"area_km1k\"]\n",
    "data_reg = data.loc[:,cols]"
   ]
  },
  {
   "cell_type": "markdown",
   "metadata": {},
   "source": [
    "Cross-validation by country"
   ]
  },
  {
   "cell_type": "code",
   "execution_count": 19,
   "metadata": {},
   "outputs": [],
   "source": [
    "cv_data_regions = data_reg.region.values\n",
    "cv_data_iso = data_reg.iso.values\n",
    "iso_uq = np.unique(cv_data_iso)\n",
    "n_iso = len(iso_uq)"
   ]
  },
  {
   "cell_type": "code",
   "execution_count": 20,
   "metadata": {},
   "outputs": [
    {
     "name": "stderr",
     "output_type": "stream",
     "text": [
      "/dartfs-hpc/rc/home/y/f003k8y/.conda/envs/ccallahan/lib/python3.7/site-packages/sklearn/model_selection/_split.py:442: DeprecationWarning: `np.int` is a deprecated alias for the builtin `int`. To silence this warning, use `int` by itself. Doing this will not modify any behavior and is safe. When replacing `np.int`, you may wish to use e.g. `np.int64` or `np.int32` to specify the precision. If you wish to review your current use, check the release note link for additional information.\n",
      "Deprecated in NumPy 1.20; for more details and guidance: https://numpy.org/devdocs/release/1.20.0-notes.html#deprecations\n",
      "  fold_sizes = np.full(n_splits, n_samples // n_splits, dtype=np.int)\n",
      "/dartfs-hpc/rc/home/y/f003k8y/.conda/envs/ccallahan/lib/python3.7/site-packages/sklearn/model_selection/_split.py:102: DeprecationWarning: `np.bool` is a deprecated alias for the builtin `bool`. To silence this warning, use `bool` by itself. Doing this will not modify any behavior and is safe. If you specifically wanted the numpy scalar type, use `np.bool_` here.\n",
      "Deprecated in NumPy 1.20; for more details and guidance: https://numpy.org/devdocs/release/1.20.0-notes.html#deprecations\n",
      "  test_mask = np.zeros(_num_samples(X), dtype=np.bool)\n"
     ]
    },
    {
     "name": "stdout",
     "output_type": "stream",
     "text": [
      "0\n"
     ]
    },
    {
     "name": "stderr",
     "output_type": "stream",
     "text": [
      "/dartfs-hpc/rc/home/y/f003k8y/.conda/envs/ccallahan/lib/python3.7/site-packages/sklearn/model_selection/_split.py:102: DeprecationWarning: `np.bool` is a deprecated alias for the builtin `bool`. To silence this warning, use `bool` by itself. Doing this will not modify any behavior and is safe. If you specifically wanted the numpy scalar type, use `np.bool_` here.\n",
      "Deprecated in NumPy 1.20; for more details and guidance: https://numpy.org/devdocs/release/1.20.0-notes.html#deprecations\n",
      "  test_mask = np.zeros(_num_samples(X), dtype=np.bool)\n"
     ]
    },
    {
     "name": "stdout",
     "output_type": "stream",
     "text": [
      "1\n"
     ]
    },
    {
     "name": "stderr",
     "output_type": "stream",
     "text": [
      "/dartfs-hpc/rc/home/y/f003k8y/.conda/envs/ccallahan/lib/python3.7/site-packages/sklearn/model_selection/_split.py:102: DeprecationWarning: `np.bool` is a deprecated alias for the builtin `bool`. To silence this warning, use `bool` by itself. Doing this will not modify any behavior and is safe. If you specifically wanted the numpy scalar type, use `np.bool_` here.\n",
      "Deprecated in NumPy 1.20; for more details and guidance: https://numpy.org/devdocs/release/1.20.0-notes.html#deprecations\n",
      "  test_mask = np.zeros(_num_samples(X), dtype=np.bool)\n"
     ]
    },
    {
     "name": "stdout",
     "output_type": "stream",
     "text": [
      "2\n"
     ]
    },
    {
     "name": "stderr",
     "output_type": "stream",
     "text": [
      "/dartfs-hpc/rc/home/y/f003k8y/.conda/envs/ccallahan/lib/python3.7/site-packages/sklearn/model_selection/_split.py:102: DeprecationWarning: `np.bool` is a deprecated alias for the builtin `bool`. To silence this warning, use `bool` by itself. Doing this will not modify any behavior and is safe. If you specifically wanted the numpy scalar type, use `np.bool_` here.\n",
      "Deprecated in NumPy 1.20; for more details and guidance: https://numpy.org/devdocs/release/1.20.0-notes.html#deprecations\n",
      "  test_mask = np.zeros(_num_samples(X), dtype=np.bool)\n"
     ]
    },
    {
     "name": "stdout",
     "output_type": "stream",
     "text": [
      "3\n"
     ]
    },
    {
     "name": "stderr",
     "output_type": "stream",
     "text": [
      "/dartfs-hpc/rc/home/y/f003k8y/.conda/envs/ccallahan/lib/python3.7/site-packages/sklearn/model_selection/_split.py:102: DeprecationWarning: `np.bool` is a deprecated alias for the builtin `bool`. To silence this warning, use `bool` by itself. Doing this will not modify any behavior and is safe. If you specifically wanted the numpy scalar type, use `np.bool_` here.\n",
      "Deprecated in NumPy 1.20; for more details and guidance: https://numpy.org/devdocs/release/1.20.0-notes.html#deprecations\n",
      "  test_mask = np.zeros(_num_samples(X), dtype=np.bool)\n"
     ]
    },
    {
     "name": "stdout",
     "output_type": "stream",
     "text": [
      "4\n"
     ]
    },
    {
     "name": "stderr",
     "output_type": "stream",
     "text": [
      "/dartfs-hpc/rc/home/y/f003k8y/.conda/envs/ccallahan/lib/python3.7/site-packages/sklearn/model_selection/_split.py:102: DeprecationWarning: `np.bool` is a deprecated alias for the builtin `bool`. To silence this warning, use `bool` by itself. Doing this will not modify any behavior and is safe. If you specifically wanted the numpy scalar type, use `np.bool_` here.\n",
      "Deprecated in NumPy 1.20; for more details and guidance: https://numpy.org/devdocs/release/1.20.0-notes.html#deprecations\n",
      "  test_mask = np.zeros(_num_samples(X), dtype=np.bool)\n"
     ]
    },
    {
     "name": "stdout",
     "output_type": "stream",
     "text": [
      "5\n"
     ]
    },
    {
     "name": "stderr",
     "output_type": "stream",
     "text": [
      "/dartfs-hpc/rc/home/y/f003k8y/.conda/envs/ccallahan/lib/python3.7/site-packages/sklearn/model_selection/_split.py:102: DeprecationWarning: `np.bool` is a deprecated alias for the builtin `bool`. To silence this warning, use `bool` by itself. Doing this will not modify any behavior and is safe. If you specifically wanted the numpy scalar type, use `np.bool_` here.\n",
      "Deprecated in NumPy 1.20; for more details and guidance: https://numpy.org/devdocs/release/1.20.0-notes.html#deprecations\n",
      "  test_mask = np.zeros(_num_samples(X), dtype=np.bool)\n"
     ]
    },
    {
     "name": "stdout",
     "output_type": "stream",
     "text": [
      "6\n"
     ]
    },
    {
     "name": "stderr",
     "output_type": "stream",
     "text": [
      "/dartfs-hpc/rc/home/y/f003k8y/.conda/envs/ccallahan/lib/python3.7/site-packages/sklearn/model_selection/_split.py:102: DeprecationWarning: `np.bool` is a deprecated alias for the builtin `bool`. To silence this warning, use `bool` by itself. Doing this will not modify any behavior and is safe. If you specifically wanted the numpy scalar type, use `np.bool_` here.\n",
      "Deprecated in NumPy 1.20; for more details and guidance: https://numpy.org/devdocs/release/1.20.0-notes.html#deprecations\n",
      "  test_mask = np.zeros(_num_samples(X), dtype=np.bool)\n"
     ]
    },
    {
     "name": "stdout",
     "output_type": "stream",
     "text": [
      "7\n"
     ]
    },
    {
     "name": "stderr",
     "output_type": "stream",
     "text": [
      "/dartfs-hpc/rc/home/y/f003k8y/.conda/envs/ccallahan/lib/python3.7/site-packages/sklearn/model_selection/_split.py:102: DeprecationWarning: `np.bool` is a deprecated alias for the builtin `bool`. To silence this warning, use `bool` by itself. Doing this will not modify any behavior and is safe. If you specifically wanted the numpy scalar type, use `np.bool_` here.\n",
      "Deprecated in NumPy 1.20; for more details and guidance: https://numpy.org/devdocs/release/1.20.0-notes.html#deprecations\n",
      "  test_mask = np.zeros(_num_samples(X), dtype=np.bool)\n"
     ]
    },
    {
     "name": "stdout",
     "output_type": "stream",
     "text": [
      "8\n"
     ]
    },
    {
     "name": "stderr",
     "output_type": "stream",
     "text": [
      "/dartfs-hpc/rc/home/y/f003k8y/.conda/envs/ccallahan/lib/python3.7/site-packages/sklearn/model_selection/_split.py:102: DeprecationWarning: `np.bool` is a deprecated alias for the builtin `bool`. To silence this warning, use `bool` by itself. Doing this will not modify any behavior and is safe. If you specifically wanted the numpy scalar type, use `np.bool_` here.\n",
      "Deprecated in NumPy 1.20; for more details and guidance: https://numpy.org/devdocs/release/1.20.0-notes.html#deprecations\n",
      "  test_mask = np.zeros(_num_samples(X), dtype=np.bool)\n"
     ]
    },
    {
     "name": "stdout",
     "output_type": "stream",
     "text": [
      "9\n"
     ]
    }
   ],
   "source": [
    "count = 0\n",
    "kf = KFold(n_splits=int(k),shuffle=True,random_state=100).split(iso_uq)\n",
    "for train_index, test_index in kf:\n",
    "    print(count)\n",
    "    \n",
    "    # split into training and testing data\n",
    "    train_countries = iso_uq[train_index]\n",
    "    test_countries = iso_uq[test_index]\n",
    "    train_data = data_reg.loc[[x in train_countries for x in cv_data_iso],:]\n",
    "    test_data = data_reg.loc[[x in test_countries for x in cv_data_iso],:]\n",
    "    y_actual = test_data.dropna(subset=[\"log_gdppc_region\",\"log_gdppc_iso_wdi\",\"yields\",\"luminosity\",\"area_km1k\",\"log_pop\"]).log_gdppc_region.values\n",
    "    \n",
    "    \n",
    "    for f in np.arange(0,len(forms),1):\n",
    "        \n",
    "        # run model\n",
    "        train_data = train_data.dropna(subset=[\"log_gdppc_region\",\"log_gdppc_iso_wdi\",\"yields\",\"luminosity\",\"area_km1k\",\"log_pop\"])\n",
    "        model_cv = reg(\"log_gdppc_region ~ \"+forms[f],\n",
    "                   data=train_data).fit(cov_type='cluster',cov_kwds={'groups':train_data['iso']})\n",
    "    \n",
    "        # predict\n",
    "        y_pred = model_cv.predict(test_data.dropna(subset=[\"log_gdppc_region\",\"log_gdppc_iso_wdi\",\"yields\",\"luminosity\",\"area_km1k\",\"log_pop\"])).values\n",
    "        rmse = np.sqrt(np.mean(((y_pred - y_actual)**2)))\n",
    "        error[count,f] = rmse\n",
    "        error_pct[count,f] = 100*rmse/np.nanmean(data_reg.log_gdppc_region.values)\n",
    "    count = count+1"
   ]
  },
  {
   "cell_type": "code",
   "execution_count": 21,
   "metadata": {},
   "outputs": [],
   "source": [
    "error_pct_mean = np.mean(error_pct,axis=0)\n",
    "error_pct_std = np.std(error_pct,axis=0)"
   ]
  },
  {
   "cell_type": "markdown",
   "metadata": {},
   "source": [
    "Plot cross-validation error"
   ]
  },
  {
   "cell_type": "code",
   "execution_count": 22,
   "metadata": {},
   "outputs": [
    {
     "data": {
      "image/png": "[encoded data removed]",
      "text/plain": [
       "<Figure size 648x720 with 1 Axes>"
      ]
     },
     "metadata": {
      "needs_background": "light"
     },
     "output_type": "display_data"
    }
   ],
   "source": [
    "fig = plt.figure(figsize=(9,10))\n",
    "rcParams[\"font.family\"] = \"sans-serif\"\n",
    "rcParams[\"font.sans-serif\"] = [\"Helvetica Neue\"]\n",
    "rcParams[\"font.size\"] = 20.0\n",
    "rcParams[\"axes.linewidth\"] = 1.3\n",
    "rcParams['xtick.major.size'] = 8\n",
    "rcParams['xtick.major.width'] = 1.3\n",
    "rcParams['ytick.major.size'] = 8\n",
    "rcParams['ytick.major.width'] = 1.3\n",
    "\n",
    "gs1 = gridspec.GridSpec(1,1)\n",
    "gs1.update(left=0.13,right=0.8,top=0.9,bottom=0.45,wspace=0.25,hspace=0.3)\n",
    "\n",
    "ax = plt.subplot(gs1[0,0])\n",
    "\n",
    "#plt.bar(x=np.arange(1,len(models)+1,1),height=error_pct_mean,\n",
    "#       facecolor=\"lightgray\",edgecolor=\"black\",linewidth=1.3,\n",
    "#        yerr=error_pct_std)\n",
    "\n",
    "for m in np.arange(0,len(models),1):\n",
    "    if m==np.argmin(error_pct_mean):\n",
    "        plt.bar(x=[m+1],height=error_pct_mean[m],\n",
    "               facecolor=[1,0,0,0.7],edgecolor=\"black\",linewidth=1.3,\n",
    "                yerr=error_pct_std[m])\n",
    "    else:\n",
    "        plt.bar(x=[m+1],height=error_pct_mean[m],\n",
    "               facecolor=\"lightgray\",edgecolor=\"black\",linewidth=1.3,\n",
    "                yerr=error_pct_std[m])\n",
    "    txt = str(m+1)+\") \"+models[m]\n",
    "    if m < 5:\n",
    "        plt.text(-0.05,-0.2-(m/20.),txt,transform=ax.transAxes,\n",
    "                fontsize=16,color=\"black\")\n",
    "    else:\n",
    "        plt.text(0.35,-0.155-((m-4)/20.),txt,transform=ax.transAxes,\n",
    "                fontsize=16,color=\"black\")\n",
    "        \n",
    "plt.xticks(ticks=np.arange(1,len(models)+1,1))\n",
    "#plt.xlabel(\"Held-out GDPpc quintile (lower = poorer)\")\n",
    "#plt.ylabel(\"RMS prediction error (log GDPpc)\")\n",
    "#plt.ylim([0,1.1])\n",
    "\n",
    "\n",
    "plt.ylabel(\"RMSE (% of average log GDPpc)\")\n",
    "plt.yticks([0,5,10,15,20])\n",
    "plt.title(\"Out-of-sample GDP predictions\",pad=10,fontsize=22)\n",
    "\n",
    "plt.savefig(\"../Figures/FigX_GDP_CrossValidation.pdf\")    \n",
    "\n",
    "plt.show()"
   ]
  },
  {
   "cell_type": "code",
   "execution_count": 23,
   "metadata": {},
   "outputs": [
    {
     "data": {
      "text/plain": [
       "'Country GDPpc and nightlights'"
      ]
     },
     "execution_count": 23,
     "metadata": {},
     "output_type": "execute_result"
    }
   ],
   "source": [
    "models[np.argmin(error_pct_mean)]"
   ]
  },
  {
   "cell_type": "markdown",
   "metadata": {},
   "source": [
    "Plot predicted vs. actual for our preferred model"
   ]
  },
  {
   "cell_type": "code",
   "execution_count": 24,
   "metadata": {},
   "outputs": [
    {
     "data": {
      "text/plain": [
       "'log_gdppc_region ~ log_gdppc_iso_wdi + luminosity + log_gdppc_iso_wdi*luminosity'"
      ]
     },
     "execution_count": 24,
     "metadata": {},
     "output_type": "execute_result"
    }
   ],
   "source": [
    "\"log_gdppc_region ~ \"+str(forms[np.argmin(error_pct_mean)])"
   ]
  },
  {
   "cell_type": "code",
   "execution_count": 25,
   "metadata": {},
   "outputs": [
    {
     "name": "stdout",
     "output_type": "stream",
     "text": [
      "                            OLS Regression Results                            \n",
      "==============================================================================\n",
      "Dep. Variable:       log_gdppc_region   R-squared:                       0.853\n",
      "Model:                            OLS   Adj. R-squared:                  0.853\n",
      "Method:                 Least Squares   F-statistic:                     604.3\n",
      "Date:                Mon, 22 Aug 2022   Prob (F-statistic):           1.26e-37\n",
      "Time:                        07:44:38   Log-Likelihood:                -21685.\n",
      "No. Observations:               24502   AIC:                         4.337e+04\n",
      "Df Residuals:                   24500   BIC:                         4.339e+04\n",
      "Df Model:                           1                                         \n",
      "Covariance Type:              cluster                                         \n",
      "=====================================================================================\n",
      "                        coef    std err          z      P>|z|      [0.025      0.975]\n",
      "-------------------------------------------------------------------------------------\n",
      "Intercept            -0.3902      0.390     -1.000      0.317      -1.155       0.375\n",
      "log_gdppc_iso_wdi     1.0114      0.041     24.582      0.000       0.931       1.092\n",
      "==============================================================================\n",
      "Omnibus:                     5722.367   Durbin-Watson:                   0.142\n",
      "Prob(Omnibus):                  0.000   Jarque-Bera (JB):           103071.858\n",
      "Skew:                           0.655   Prob(JB):                         0.00\n",
      "Kurtosis:                      12.962   Cond. No.                         57.5\n",
      "==============================================================================\n",
      "\n",
      "Warnings:\n",
      "[1] Standard Errors are robust to cluster correlation (cluster)\n"
     ]
    }
   ],
   "source": [
    "data_reg_final = data_reg.dropna(subset=[\"log_gdppc_region\",\"log_gdppc_iso_wdi\",\"luminosity\"])\n",
    "\n",
    "model = reg(\"log_gdppc_region ~ log_gdppc_iso_wdi\",\n",
    "           data=data_reg_final).fit(cov_type='cluster',cov_kwds={'groups':data_reg_final['iso']})\n",
    "print(model.summary())"
   ]
  },
  {
   "cell_type": "code",
   "execution_count": 26,
   "metadata": {},
   "outputs": [
    {
     "name": "stdout",
     "output_type": "stream",
     "text": [
      "                            OLS Regression Results                            \n",
      "==============================================================================\n",
      "Dep. Variable:       log_gdppc_region   R-squared:                       0.866\n",
      "Model:                            OLS   Adj. R-squared:                  0.866\n",
      "Method:                 Least Squares   F-statistic:                     469.7\n",
      "Date:                Mon, 22 Aug 2022   Prob (F-statistic):           1.65e-48\n",
      "Time:                        07:44:38   Log-Likelihood:                -20551.\n",
      "No. Observations:               24502   AIC:                         4.111e+04\n",
      "Df Residuals:                   24498   BIC:                         4.114e+04\n",
      "Df Model:                           3                                         \n",
      "Covariance Type:              cluster                                         \n",
      "================================================================================================\n",
      "                                   coef    std err          z      P>|z|      [0.025      0.975]\n",
      "------------------------------------------------------------------------------------------------\n",
      "Intercept                       -0.5373      0.446     -1.206      0.228      -1.411       0.336\n",
      "log_gdppc_iso_wdi                1.0164      0.048     21.069      0.000       0.922       1.111\n",
      "luminosity                       0.1041      0.027      3.912      0.000       0.052       0.156\n",
      "log_gdppc_iso_wdi:luminosity    -0.0090      0.003     -3.303      0.001      -0.014      -0.004\n",
      "==============================================================================\n",
      "Omnibus:                     5889.660   Durbin-Watson:                   0.152\n",
      "Prob(Omnibus):                  0.000   Jarque-Bera (JB):           125661.357\n",
      "Skew:                           0.635   Prob(JB):                         0.00\n",
      "Kurtosis:                      14.022   Cond. No.                         759.\n",
      "==============================================================================\n",
      "\n",
      "Warnings:\n",
      "[1] Standard Errors are robust to cluster correlation (cluster)\n"
     ]
    }
   ],
   "source": [
    "data_reg_final = data_reg.dropna(subset=[\"log_gdppc_region\",\"log_gdppc_iso_wdi\",\"luminosity\"])\n",
    "\n",
    "model = reg(\"log_gdppc_region ~ \"+str(forms[np.argmin(error_pct_mean)]),\n",
    "           data=data_reg_final).fit(cov_type='cluster',cov_kwds={'groups':data_reg_final['iso']})\n",
    "print(model.summary())"
   ]
  },
  {
   "cell_type": "markdown",
   "metadata": {},
   "source": [
    "Get LaTeX version of table"
   ]
  },
  {
   "cell_type": "markdown",
   "metadata": {},
   "source": [
    "Plot with and without UZB/KEN"
   ]
  },
  {
   "cell_type": "code",
   "execution_count": 27,
   "metadata": {},
   "outputs": [
    {
     "name": "stdout",
     "output_type": "stream",
     "text": [
      "rsquared = 0.8663949445910692\n",
      "rsquared = 0.8945187923359443\n"
     ]
    },
    {
     "data": {
      "image/png": "[encoded data removed]",
      "text/plain": [
       "<Figure size 1152x504 with 2 Axes>"
      ]
     },
     "metadata": {
      "needs_background": "light"
     },
     "output_type": "display_data"
    }
   ],
   "source": [
    "fig = plt.figure(figsize=(16,7))\n",
    "rcParams[\"font.family\"] = \"sans-serif\"\n",
    "rcParams[\"font.sans-serif\"] = [\"Helvetica Neue\"]\n",
    "rcParams[\"font.size\"] = 20.0\n",
    "rcParams[\"axes.linewidth\"] = 1.3\n",
    "rcParams['xtick.major.size'] = 8\n",
    "rcParams['xtick.major.width'] = 1.3\n",
    "rcParams['ytick.major.size'] = 8\n",
    "rcParams['ytick.major.width'] = 1.3\n",
    "rcParams[\"mathtext.default\"] = \"regular\"\n",
    "\n",
    "gs1 = gridspec.GridSpec(1,2)\n",
    "gs1.update(left=0.15,right=0.93,top=0.85,bottom=0.17,wspace=0.22,hspace=0.3)\n",
    "\n",
    "countries_to_drop = [\"UZB\",\"KEN\"]\n",
    "nms = [\"Uzbekistan\",\"Kenya\"]\n",
    "cols = [\"blue\",\"red\"]\n",
    "\n",
    "for j in [0,1]:\n",
    "    ax = plt.subplot(gs1[0,j])\n",
    "            \n",
    "    y_pred_all = model.predict(data_reg_final.loc[:,[\"log_gdppc_region\",\"log_gdppc_iso_wdi\",\"luminosity\"]]).values\n",
    "    y_pred = model.predict(data_reg_final.loc[[x not in countries_to_drop for x in data_reg_final.iso.values],[\"log_gdppc_region\",\"log_gdppc_iso_wdi\",\"luminosity\"]]).values\n",
    "    y_actual_all = data_reg_final.loc[:,\"log_gdppc_region\"].values\n",
    "    y_actual = data_reg_final.loc[[x not in countries_to_drop for x in data_reg_final.iso.values],\"log_gdppc_region\"].values\n",
    "    \n",
    "    ind = (~np.isnan(y_actual))&(~np.isnan(y_pred))\n",
    "    ind_all = (~np.isnan(y_actual_all))&(~np.isnan(y_pred_all))\n",
    "    \n",
    "    if j == 0:\n",
    "        y = y_actual_all[ind_all]\n",
    "        x = y_pred_all[ind_all]\n",
    "    else:\n",
    "        y = y_actual[ind]\n",
    "        x = y_pred[ind]\n",
    "    \n",
    "    plt.scatter(x,y,color=\"gray\",label=\"All others\")\n",
    "    \n",
    "    if j == 0:\n",
    "        for cc in np.arange(0,len(countries_to_drop),1):\n",
    "            x_1 = model.predict(data_reg_final.loc[[x in countries_to_drop[cc] for x in data_reg_final.iso.values],[\"log_gdppc_region\",\"log_gdppc_iso_wdi\",\"luminosity\"]]).values\n",
    "            y_1 = data_reg_final.loc[[x in countries_to_drop[cc] for x in data_reg_final.iso.values],\"log_gdppc_region\"].values\n",
    "            plt.scatter(x_1,y_1,color=cols[cc],label=nms[cc])\n",
    "            \n",
    "    slope, intercept, r, pvalue, se = stats.linregress(x,y)\n",
    "    print(\"rsquared = \"+str(r**2))\n",
    "    plt.plot([1,13],[1,13],color=\"black\",linewidth=1.3,linestyle=\"--\")\n",
    "    plt.xlabel(\"Predicted regional log GDPpc\")\n",
    "    plt.ylabel(\"Actual regional log GDPpc\")\n",
    "    plt.xlim([1,13])\n",
    "    plt.ylim([1,13])\n",
    "    plt.legend(loc=\"lower right\",frameon=False,fontsize=18,\n",
    "              markerscale=2,handletextpad=0.15)\n",
    "    plt.title(\"Observed and predicted regional GDPpc\",pad=10,fontsize=22)\n",
    "    \n",
    "    plt.text(0.05,0.9,r\"R$^2$ = \"+str(np.around(r**2,3)),\n",
    "            transform=ax.transAxes,fontsize=18)\n",
    "    \n",
    "plt.figtext(0.12,0.91,r'$\\bf{A}$',fontsize=24)\n",
    "plt.figtext(0.55,0.91,r'$\\bf{B}$',fontsize=24)\n",
    "\n",
    "\n",
    "plt.savefig(\"../Figures/FigX_GDP_Predictions.pdf\")    \n",
    "\n",
    "plt.show()"
   ]
  },
  {
   "cell_type": "markdown",
   "metadata": {},
   "source": [
    "Predict overall sample, then integrate lessmann GDP, plot against ours... but also need to bootstrap model and sample residual uncertainty"
   ]
  },
  {
   "cell_type": "code",
   "execution_count": 28,
   "metadata": {},
   "outputs": [],
   "source": [
    "def indices(x,df):\n",
    "    return(df.loc[df.iso==x,:].index.values)\n",
    "def flatten(t):\n",
    "    return [item for sublist in t for item in sublist]\n",
    "def sample_by_country(df):\n",
    "    ## set seed before running function\n",
    "    iso_df = np.unique(df.iso.values)\n",
    "    iso_sample = np.random.choice(iso_df,size=len(iso_df),replace=True)\n",
    "    indices_array = np.array([indices(i,df) for i in iso_sample],dtype=\"object\")\n",
    "    final_indices = flatten(indices_array)\n",
    "    df_boot = df.iloc[final_indices,:]\n",
    "    return(df_boot)"
   ]
  },
  {
   "cell_type": "code",
   "execution_count": 29,
   "metadata": {},
   "outputs": [],
   "source": [
    "np.random.seed(100)"
   ]
  },
  {
   "cell_type": "markdown",
   "metadata": {},
   "source": [
    "Set up xarray dataarray with needed dimensions"
   ]
  },
  {
   "cell_type": "code",
   "execution_count": 30,
   "metadata": {},
   "outputs": [],
   "source": [
    "regions = np.unique(data_reg.region.values)\n",
    "time = np.unique(data_reg.time.values)\n",
    "n_uncert = 1000\n",
    "uncertainty = np.arange(1,n_uncert+1,1)"
   ]
  },
  {
   "cell_type": "code",
   "execution_count": 31,
   "metadata": {},
   "outputs": [],
   "source": [
    "regional_log_gdppc = xr.DataArray(np.full((len(regions),len(time),n_uncert),np.nan),\n",
    "                              coords=[regions,time,uncertainty],\n",
    "                             dims=[\"region\",\"time\",\"uncertainty\"])"
   ]
  },
  {
   "cell_type": "markdown",
   "metadata": {},
   "source": [
    "Bootstrap 1000 times -- each time, run the model on bootstrapped data to get params, predict on original dataset, then add residual realization"
   ]
  },
  {
   "cell_type": "code",
   "execution_count": 32,
   "metadata": {},
   "outputs": [
    {
     "name": "stdout",
     "output_type": "stream",
     "text": [
      "0\n",
      "50\n",
      "100\n",
      "150\n",
      "200\n",
      "250\n",
      "300\n",
      "350\n",
      "400\n",
      "450\n",
      "500\n",
      "550\n",
      "600\n",
      "650\n",
      "700\n",
      "750\n",
      "800\n",
      "850\n",
      "900\n",
      "950\n"
     ]
    }
   ],
   "source": [
    "for i in np.arange(0,n_uncert,1):\n",
    "    if np.mod(i,50)==0:\n",
    "        print(i)\n",
    "        \n",
    "    # bootstrap\n",
    "    data_boot = sample_by_country(data_reg)\n",
    "    data_boot_final = data_boot.dropna(subset=[\"log_gdppc_region\",\"log_gdppc_iso_wdi\",\"luminosity\"])\n",
    "\n",
    "    # fit model\n",
    "    model = reg(\"log_gdppc_region ~ log_gdppc_iso_wdi + luminosity + log_gdppc_iso_wdi*luminosity\",data=data_boot_final).fit()\n",
    "    \n",
    "    # predict\n",
    "    predicted = model.predict(data_reg)\n",
    "    \n",
    "    # generate noise using the variance of the residuals\n",
    "    std_resid = model.resid.std()\n",
    "    noise = np.random.normal(loc=0,scale=std_resid,size=len(predicted))\n",
    "    data_reg[\"predicted\"] = predicted + noise\n",
    "    regional_log_gdppc[:,:,i] = data_reg.loc[:,[\"region\",\"time\",\"predicted\"]].pivot(index=\"region\",columns=\"time\").values"
   ]
  },
  {
   "cell_type": "markdown",
   "metadata": {},
   "source": [
    "Drop countries that we want to drop"
   ]
  },
  {
   "cell_type": "code",
   "execution_count": 33,
   "metadata": {},
   "outputs": [],
   "source": [
    "countries_to_drop = [\"UZB\",\"KEN\"]"
   ]
  },
  {
   "cell_type": "code",
   "execution_count": 34,
   "metadata": {},
   "outputs": [],
   "source": [
    "regional_log_gdppc.coords[\"iso\"] = xr.DataArray([x[0:3] for x in regions],coords=[regions],dims=[\"region\"])\n",
    "for c in countries_to_drop:\n",
    "    regional_log_gdppc = regional_log_gdppc.where(regional_log_gdppc.iso!=c,np.nan)"
   ]
  },
  {
   "cell_type": "markdown",
   "metadata": {},
   "source": [
    "Write out in dataset"
   ]
  },
  {
   "cell_type": "code",
   "execution_count": 35,
   "metadata": {},
   "outputs": [],
   "source": [
    "regional_gdppc = np.exp(regional_log_gdppc)"
   ]
  },
  {
   "cell_type": "code",
   "execution_count": 36,
   "metadata": {},
   "outputs": [
    {
     "name": "stdout",
     "output_type": "stream",
     "text": [
      "/dartfs-hpc/rc/lab/C/CMIG/ccallahan/Extremes_Economics/Data/Predicted_Regional_GDP/adm1_subnational_constant2010_gdp_percapita_predicted_1992-2013.nc\n"
     ]
    }
   ],
   "source": [
    "regional_income = xr.Dataset({\"log_gdp_per_capita\":([\"region\",\"time\",\"uncertainty\"],regional_log_gdppc),\n",
    "                              \"gdp_per_capita\":([\"region\",\"time\",\"uncertainty\"],regional_gdppc)},\n",
    "                             coords={\"region\":([\"region\"],regions),\n",
    "                                     \"time\":([\"time\"],time),\n",
    "                                     \"uncertainty\":([\"uncertainty\"],uncertainty)})\n",
    "\n",
    "regional_income.attrs[\"creation_date\"] = str(datetime.datetime.now())\n",
    "regional_income.attrs[\"created_by\"] = \"Christopher Callahan, Christopher.W.Callahan.GR@dartmouth.edu\"\n",
    "regional_income.attrs[\"variable_description\"] = \"Predicted subnational region GDP per capita predicted using country GDP per capita and luminosity\"\n",
    "regional_income.attrs[\"created_from\"] = os.getcwd()+\"/Predict_Regional_GDP.ipynb\"\n",
    "regional_income.attrs[\"dims\"] = \"region, time, uncertainty\"\n",
    "regional_income.attrs[\"uncertainty\"] = str(n_uncert)+\" monte carlo samples\"\n",
    "regional_income.attrs[\"inflation_adjustment\"] = \"constant 2010 dollars\"\n",
    "\n",
    "fname_out = loc_out+\"adm1_subnational_constant2010_gdp_percapita_predicted_\"+str(y1)+\"-\"+str(y2)+\".nc\"\n",
    "regional_income.to_netcdf(fname_out,mode=\"w\")\n",
    "print(fname_out,flush=True)"
   ]
  },
  {
   "cell_type": "code",
   "execution_count": 37,
   "metadata": {},
   "outputs": [
    {
     "data": {
      "text/html": [
       "<div><svg style=\"position: absolute; width: 0; height: 0; overflow: hidden\">\n",
       "<defs>\n",
       "<symbol id=\"icon-database\" viewBox=\"0 0 32 32\">\n",
       "<path d=\"M16 0c-8.837 0-16 2.239-16 5v4c0 2.761 7.163 5 16 5s16-2.239 16-5v-4c0-2.761-7.163-5-16-5z\"></path>\n",
       "<path d=\"M16 17c-8.837 0-16-2.239-16-5v6c0 2.761 7.163 5 16 5s16-2.239 16-5v-6c0 2.761-7.163 5-16 5z\"></path>\n",
       "<path d=\"M16 26c-8.837 0-16-2.239-16-5v6c0 2.761 7.163 5 16 5s16-2.239 16-5v-6c0 2.761-7.163 5-16 5z\"></path>\n",
       "</symbol>\n",
       "<symbol id=\"icon-file-text2\" viewBox=\"0 0 32 32\">\n",
       "<path d=\"M28.681 7.159c-0.694-0.947-1.662-2.053-2.724-3.116s-2.169-2.030-3.116-2.724c-1.612-1.182-2.393-1.319-2.841-1.319h-15.5c-1.378 0-2.5 1.121-2.5 2.5v27c0 1.378 1.122 2.5 2.5 2.5h23c1.378 0 2.5-1.122 2.5-2.5v-19.5c0-0.448-0.137-1.23-1.319-2.841zM24.543 5.457c0.959 0.959 1.712 1.825 2.268 2.543h-4.811v-4.811c0.718 0.556 1.584 1.309 2.543 2.268zM28 29.5c0 0.271-0.229 0.5-0.5 0.5h-23c-0.271 0-0.5-0.229-0.5-0.5v-27c0-0.271 0.229-0.5 0.5-0.5 0 0 15.499-0 15.5 0v7c0 0.552 0.448 1 1 1h7v19.5z\"></path>\n",
       "<path d=\"M23 26h-14c-0.552 0-1-0.448-1-1s0.448-1 1-1h14c0.552 0 1 0.448 1 1s-0.448 1-1 1z\"></path>\n",
       "<path d=\"M23 22h-14c-0.552 0-1-0.448-1-1s0.448-1 1-1h14c0.552 0 1 0.448 1 1s-0.448 1-1 1z\"></path>\n",
       "<path d=\"M23 18h-14c-0.552 0-1-0.448-1-1s0.448-1 1-1h14c0.552 0 1 0.448 1 1s-0.448 1-1 1z\"></path>\n",
       "</symbol>\n",
       "</defs>\n",
       "</svg>\n",
       "<style>/* CSS stylesheet for displaying xarray objects in jupyterlab.\n",
       " *\n",
       " */\n",
       "\n",
       ":root {\n",
       "  --xr-font-color0: var(--jp-content-font-color0, rgba(0, 0, 0, 1));\n",
       "  --xr-font-color2: var(--jp-content-font-color2, rgba(0, 0, 0, 0.54));\n",
       "  --xr-font-color3: var(--jp-content-font-color3, rgba(0, 0, 0, 0.38));\n",
       "  --xr-border-color: var(--jp-border-color2, #e0e0e0);\n",
       "  --xr-disabled-color: var(--jp-layout-color3, #bdbdbd);\n",
       "  --xr-background-color: var(--jp-layout-color0, white);\n",
       "  --xr-background-color-row-even: var(--jp-layout-color1, white);\n",
       "  --xr-background-color-row-odd: var(--jp-layout-color2, #eeeeee);\n",
       "}\n",
       "\n",
       "html[theme=dark],\n",
       "body.vscode-dark {\n",
       "  --xr-font-color0: rgba(255, 255, 255, 1);\n",
       "  --xr-font-color2: rgba(255, 255, 255, 0.54);\n",
       "  --xr-font-color3: rgba(255, 255, 255, 0.38);\n",
       "  --xr-border-color: #1F1F1F;\n",
       "  --xr-disabled-color: #515151;\n",
       "  --xr-background-color: #111111;\n",
       "  --xr-background-color-row-even: #111111;\n",
       "  --xr-background-color-row-odd: #313131;\n",
       "}\n",
       "\n",
       ".xr-wrap {\n",
       "  display: block;\n",
       "  min-width: 300px;\n",
       "  max-width: 700px;\n",
       "}\n",
       "\n",
       ".xr-text-repr-fallback {\n",
       "  /* fallback to plain text repr when CSS is not injected (untrusted notebook) */\n",
       "  display: none;\n",
       "}\n",
       "\n",
       ".xr-header {\n",
       "  padding-top: 6px;\n",
       "  padding-bottom: 6px;\n",
       "  margin-bottom: 4px;\n",
       "  border-bottom: solid 1px var(--xr-border-color);\n",
       "}\n",
       "\n",
       ".xr-header > div,\n",
       ".xr-header > ul {\n",
       "  display: inline;\n",
       "  margin-top: 0;\n",
       "  margin-bottom: 0;\n",
       "}\n",
       "\n",
       ".xr-obj-type,\n",
       ".xr-array-name {\n",
       "  margin-left: 2px;\n",
       "  margin-right: 10px;\n",
       "}\n",
       "\n",
       ".xr-obj-type {\n",
       "  color: var(--xr-font-color2);\n",
       "}\n",
       "\n",
       ".xr-sections {\n",
       "  padding-left: 0 !important;\n",
       "  display: grid;\n",
       "  grid-template-columns: 150px auto auto 1fr 20px 20px;\n",
       "}\n",
       "\n",
       ".xr-section-item {\n",
       "  display: contents;\n",
       "}\n",
       "\n",
       ".xr-section-item input {\n",
       "  display: none;\n",
       "}\n",
       "\n",
       ".xr-section-item input + label {\n",
       "  color: var(--xr-disabled-color);\n",
       "}\n",
       "\n",
       ".xr-section-item input:enabled + label {\n",
       "  cursor: pointer;\n",
       "  color: var(--xr-font-color2);\n",
       "}\n",
       "\n",
       ".xr-section-item input:enabled + label:hover {\n",
       "  color: var(--xr-font-color0);\n",
       "}\n",
       "\n",
       ".xr-section-summary {\n",
       "  grid-column: 1;\n",
       "  color: var(--xr-font-color2);\n",
       "  font-weight: 500;\n",
       "}\n",
       "\n",
       ".xr-section-summary > span {\n",
       "  display: inline-block;\n",
       "  padding-left: 0.5em;\n",
       "}\n",
       "\n",
       ".xr-section-summary-in:disabled + label {\n",
       "  color: var(--xr-font-color2);\n",
       "}\n",
       "\n",
       ".xr-section-summary-in + label:before {\n",
       "  display: inline-block;\n",
       "  content: '►';\n",
       "  font-size: 11px;\n",
       "  width: 15px;\n",
       "  text-align: center;\n",
       "}\n",
       "\n",
       ".xr-section-summary-in:disabled + label:before {\n",
       "  color: var(--xr-disabled-color);\n",
       "}\n",
       "\n",
       ".xr-section-summary-in:checked + label:before {\n",
       "  content: '▼';\n",
       "}\n",
       "\n",
       ".xr-section-summary-in:checked + label > span {\n",
       "  display: none;\n",
       "}\n",
       "\n",
       ".xr-section-summary,\n",
       ".xr-section-inline-details {\n",
       "  padding-top: 4px;\n",
       "  padding-bottom: 4px;\n",
       "}\n",
       "\n",
       ".xr-section-inline-details {\n",
       "  grid-column: 2 / -1;\n",
       "}\n",
       "\n",
       ".xr-section-details {\n",
       "  display: none;\n",
       "  grid-column: 1 / -1;\n",
       "  margin-bottom: 5px;\n",
       "}\n",
       "\n",
       ".xr-section-summary-in:checked ~ .xr-section-details {\n",
       "  display: contents;\n",
       "}\n",
       "\n",
       ".xr-array-wrap {\n",
       "  grid-column: 1 / -1;\n",
       "  display: grid;\n",
       "  grid-template-columns: 20px auto;\n",
       "}\n",
       "\n",
       ".xr-array-wrap > label {\n",
       "  grid-column: 1;\n",
       "  vertical-align: top;\n",
       "}\n",
       "\n",
       ".xr-preview {\n",
       "  color: var(--xr-font-color3);\n",
       "}\n",
       "\n",
       ".xr-array-preview,\n",
       ".xr-array-data {\n",
       "  padding: 0 5px !important;\n",
       "  grid-column: 2;\n",
       "}\n",
       "\n",
       ".xr-array-data,\n",
       ".xr-array-in:checked ~ .xr-array-preview {\n",
       "  display: none;\n",
       "}\n",
       "\n",
       ".xr-array-in:checked ~ .xr-array-data,\n",
       ".xr-array-preview {\n",
       "  display: inline-block;\n",
       "}\n",
       "\n",
       ".xr-dim-list {\n",
       "  display: inline-block !important;\n",
       "  list-style: none;\n",
       "  padding: 0 !important;\n",
       "  margin: 0;\n",
       "}\n",
       "\n",
       ".xr-dim-list li {\n",
       "  display: inline-block;\n",
       "  padding: 0;\n",
       "  margin: 0;\n",
       "}\n",
       "\n",
       ".xr-dim-list:before {\n",
       "  content: '(';\n",
       "}\n",
       "\n",
       ".xr-dim-list:after {\n",
       "  content: ')';\n",
       "}\n",
       "\n",
       ".xr-dim-list li:not(:last-child):after {\n",
       "  content: ',';\n",
       "  padding-right: 5px;\n",
       "}\n",
       "\n",
       ".xr-has-index {\n",
       "  font-weight: bold;\n",
       "}\n",
       "\n",
       ".xr-var-list,\n",
       ".xr-var-item {\n",
       "  display: contents;\n",
       "}\n",
       "\n",
       ".xr-var-item > div,\n",
       ".xr-var-item label,\n",
       ".xr-var-item > .xr-var-name span {\n",
       "  background-color: var(--xr-background-color-row-even);\n",
       "  margin-bottom: 0;\n",
       "}\n",
       "\n",
       ".xr-var-item > .xr-var-name:hover span {\n",
       "  padding-right: 5px;\n",
       "}\n",
       "\n",
       ".xr-var-list > li:nth-child(odd) > div,\n",
       ".xr-var-list > li:nth-child(odd) > label,\n",
       ".xr-var-list > li:nth-child(odd) > .xr-var-name span {\n",
       "  background-color: var(--xr-background-color-row-odd);\n",
       "}\n",
       "\n",
       ".xr-var-name {\n",
       "  grid-column: 1;\n",
       "}\n",
       "\n",
       ".xr-var-dims {\n",
       "  grid-column: 2;\n",
       "}\n",
       "\n",
       ".xr-var-dtype {\n",
       "  grid-column: 3;\n",
       "  text-align: right;\n",
       "  color: var(--xr-font-color2);\n",
       "}\n",
       "\n",
       ".xr-var-preview {\n",
       "  grid-column: 4;\n",
       "}\n",
       "\n",
       ".xr-var-name,\n",
       ".xr-var-dims,\n",
       ".xr-var-dtype,\n",
       ".xr-preview,\n",
       ".xr-attrs dt {\n",
       "  white-space: nowrap;\n",
       "  overflow: hidden;\n",
       "  text-overflow: ellipsis;\n",
       "  padding-right: 10px;\n",
       "}\n",
       "\n",
       ".xr-var-name:hover,\n",
       ".xr-var-dims:hover,\n",
       ".xr-var-dtype:hover,\n",
       ".xr-attrs dt:hover {\n",
       "  overflow: visible;\n",
       "  width: auto;\n",
       "  z-index: 1;\n",
       "}\n",
       "\n",
       ".xr-var-attrs,\n",
       ".xr-var-data {\n",
       "  display: none;\n",
       "  background-color: var(--xr-background-color) !important;\n",
       "  padding-bottom: 5px !important;\n",
       "}\n",
       "\n",
       ".xr-var-attrs-in:checked ~ .xr-var-attrs,\n",
       ".xr-var-data-in:checked ~ .xr-var-data {\n",
       "  display: block;\n",
       "}\n",
       "\n",
       ".xr-var-data > table {\n",
       "  float: right;\n",
       "}\n",
       "\n",
       ".xr-var-name span,\n",
       ".xr-var-data,\n",
       ".xr-attrs {\n",
       "  padding-left: 25px !important;\n",
       "}\n",
       "\n",
       ".xr-attrs,\n",
       ".xr-var-attrs,\n",
       ".xr-var-data {\n",
       "  grid-column: 1 / -1;\n",
       "}\n",
       "\n",
       "dl.xr-attrs {\n",
       "  padding: 0;\n",
       "  margin: 0;\n",
       "  display: grid;\n",
       "  grid-template-columns: 125px auto;\n",
       "}\n",
       "\n",
       ".xr-attrs dt, dd {\n",
       "  padding: 0;\n",
       "  margin: 0;\n",
       "  float: left;\n",
       "  padding-right: 10px;\n",
       "  width: auto;\n",
       "}\n",
       "\n",
       ".xr-attrs dt {\n",
       "  font-weight: normal;\n",
       "  grid-column: 1;\n",
       "}\n",
       "\n",
       ".xr-attrs dt:hover span {\n",
       "  display: inline-block;\n",
       "  background: var(--xr-background-color);\n",
       "  padding-right: 10px;\n",
       "}\n",
       "\n",
       ".xr-attrs dd {\n",
       "  grid-column: 2;\n",
       "  white-space: pre-wrap;\n",
       "  word-break: break-all;\n",
       "}\n",
       "\n",
       ".xr-icon-database,\n",
       ".xr-icon-file-text2 {\n",
       "  display: inline-block;\n",
       "  vertical-align: middle;\n",
       "  width: 1em;\n",
       "  height: 1.5em !important;\n",
       "  stroke-width: 0;\n",
       "  stroke: currentColor;\n",
       "  fill: currentColor;\n",
       "}\n",
       "</style><pre class='xr-text-repr-fallback'>&lt;xarray.Dataset&gt;\n",
       "Dimensions:             (region: 3610, time: 22, uncertainty: 1000)\n",
       "Coordinates:\n",
       "  * region              (region) object &#x27;AFG.10_1&#x27; &#x27;AFG.11_1&#x27; ... &#x27;ZWE.9_1&#x27;\n",
       "  * time                (time) int64 1992 1993 1994 1995 ... 2010 2011 2012 2013\n",
       "  * uncertainty         (uncertainty) int64 1 2 3 4 5 6 ... 996 997 998 999 1000\n",
       "Data variables:\n",
       "    log_gdp_per_capita  (region, time, uncertainty) float64 nan nan ... 6.918\n",
       "    gdp_per_capita      (region, time, uncertainty) float64 nan nan ... 1.01e+03\n",
       "Attributes:\n",
       "    creation_date:         2022-08-22 08:03:36.494329\n",
       "    created_by:            Christopher Callahan, Christopher.W.Callahan.GR@da...\n",
       "    variable_description:  Predicted subnational region GDP per capita predic...\n",
       "    created_from:          /dartfs-hpc/rc/lab/C/CMIG/ccallahan/Extremes_Econo...\n",
       "    dims:                  region, time, uncertainty\n",
       "    uncertainty:           1000 monte carlo samples\n",
       "    inflation_adjustment:  constant 2010 dollars</pre><div class='xr-wrap' hidden><div class='xr-header'><div class='xr-obj-type'>xarray.Dataset</div></div><ul class='xr-sections'><li class='xr-section-item'><input id='section-8725997e-12ef-4eb3-bec1-fc36355959c5' class='xr-section-summary-in' type='checkbox' disabled ><label for='section-8725997e-12ef-4eb3-bec1-fc36355959c5' class='xr-section-summary'  title='Expand/collapse section'>Dimensions:</label><div class='xr-section-inline-details'><ul class='xr-dim-list'><li><span class='xr-has-index'>region</span>: 3610</li><li><span class='xr-has-index'>time</span>: 22</li><li><span class='xr-has-index'>uncertainty</span>: 1000</li></ul></div><div class='xr-section-details'></div></li><li class='xr-section-item'><input id='section-e2c515e2-7fa3-4a84-98ba-f4667f8db2d5' class='xr-section-summary-in' type='checkbox'  checked><label for='section-e2c515e2-7fa3-4a84-98ba-f4667f8db2d5' class='xr-section-summary' >Coordinates: <span>(3)</span></label><div class='xr-section-inline-details'></div><div class='xr-section-details'><ul class='xr-var-list'><li class='xr-var-item'><div class='xr-var-name'><span class='xr-has-index'>region</span></div><div class='xr-var-dims'>(region)</div><div class='xr-var-dtype'>object</div><div class='xr-var-preview xr-preview'>&#x27;AFG.10_1&#x27; &#x27;AFG.11_1&#x27; ... &#x27;ZWE.9_1&#x27;</div><input id='attrs-de68b707-a67f-444c-9e91-354b7728d95d' class='xr-var-attrs-in' type='checkbox' disabled><label for='attrs-de68b707-a67f-444c-9e91-354b7728d95d' title='Show/Hide attributes'><svg class='icon xr-icon-file-text2'><use xlink:href='#icon-file-text2'></use></svg></label><input id='data-c4cb857c-e071-464f-a1a5-465bb53fa981' class='xr-var-data-in' type='checkbox'><label for='data-c4cb857c-e071-464f-a1a5-465bb53fa981' title='Show/Hide data repr'><svg class='icon xr-icon-database'><use xlink:href='#icon-database'></use></svg></label><div class='xr-var-attrs'><dl class='xr-attrs'></dl></div><div class='xr-var-data'><pre>array([&#x27;AFG.10_1&#x27;, &#x27;AFG.11_1&#x27;, &#x27;AFG.12_1&#x27;, ..., &#x27;ZWE.7_1&#x27;, &#x27;ZWE.8_1&#x27;,\n",
       "       &#x27;ZWE.9_1&#x27;], dtype=object)</pre></div></li><li class='xr-var-item'><div class='xr-var-name'><span class='xr-has-index'>time</span></div><div class='xr-var-dims'>(time)</div><div class='xr-var-dtype'>int64</div><div class='xr-var-preview xr-preview'>1992 1993 1994 ... 2011 2012 2013</div><input id='attrs-4adf91de-33b5-42e5-a76f-49dedcaa9120' class='xr-var-attrs-in' type='checkbox' disabled><label for='attrs-4adf91de-33b5-42e5-a76f-49dedcaa9120' title='Show/Hide attributes'><svg class='icon xr-icon-file-text2'><use xlink:href='#icon-file-text2'></use></svg></label><input id='data-7daa279a-f416-40ec-a1ac-5f1d98a61afd' class='xr-var-data-in' type='checkbox'><label for='data-7daa279a-f416-40ec-a1ac-5f1d98a61afd' title='Show/Hide data repr'><svg class='icon xr-icon-database'><use xlink:href='#icon-database'></use></svg></label><div class='xr-var-attrs'><dl class='xr-attrs'></dl></div><div class='xr-var-data'><pre>array([1992, 1993, 1994, 1995, 1996, 1997, 1998, 1999, 2000, 2001, 2002, 2003,\n",
       "       2004, 2005, 2006, 2007, 2008, 2009, 2010, 2011, 2012, 2013])</pre></div></li><li class='xr-var-item'><div class='xr-var-name'><span class='xr-has-index'>uncertainty</span></div><div class='xr-var-dims'>(uncertainty)</div><div class='xr-var-dtype'>int64</div><div class='xr-var-preview xr-preview'>1 2 3 4 5 ... 996 997 998 999 1000</div><input id='attrs-f64ce5f1-7302-4920-a81a-b663c93ad420' class='xr-var-attrs-in' type='checkbox' disabled><label for='attrs-f64ce5f1-7302-4920-a81a-b663c93ad420' title='Show/Hide attributes'><svg class='icon xr-icon-file-text2'><use xlink:href='#icon-file-text2'></use></svg></label><input id='data-af0185e4-9e0c-4b41-8559-1fe90f991d9c' class='xr-var-data-in' type='checkbox'><label for='data-af0185e4-9e0c-4b41-8559-1fe90f991d9c' title='Show/Hide data repr'><svg class='icon xr-icon-database'><use xlink:href='#icon-database'></use></svg></label><div class='xr-var-attrs'><dl class='xr-attrs'></dl></div><div class='xr-var-data'><pre>array([   1,    2,    3, ...,  998,  999, 1000])</pre></div></li></ul></div></li><li class='xr-section-item'><input id='section-7995edb3-ca20-44ab-8064-6a56a4494c4d' class='xr-section-summary-in' type='checkbox'  checked><label for='section-7995edb3-ca20-44ab-8064-6a56a4494c4d' class='xr-section-summary' >Data variables: <span>(2)</span></label><div class='xr-section-inline-details'></div><div class='xr-section-details'><ul class='xr-var-list'><li class='xr-var-item'><div class='xr-var-name'><span>log_gdp_per_capita</span></div><div class='xr-var-dims'>(region, time, uncertainty)</div><div class='xr-var-dtype'>float64</div><div class='xr-var-preview xr-preview'>nan nan nan ... 6.727 6.238 6.918</div><input id='attrs-fe9e696e-2172-4fed-9041-21b70e2593ea' class='xr-var-attrs-in' type='checkbox' disabled><label for='attrs-fe9e696e-2172-4fed-9041-21b70e2593ea' title='Show/Hide attributes'><svg class='icon xr-icon-file-text2'><use xlink:href='#icon-file-text2'></use></svg></label><input id='data-649219a9-d47f-42d6-b705-68fcfb3dcd9d' class='xr-var-data-in' type='checkbox'><label for='data-649219a9-d47f-42d6-b705-68fcfb3dcd9d' title='Show/Hide data repr'><svg class='icon xr-icon-database'><use xlink:href='#icon-database'></use></svg></label><div class='xr-var-attrs'><dl class='xr-attrs'></dl></div><div class='xr-var-data'><pre>array([[[       nan,        nan,        nan, ...,        nan,\n",
       "                nan,        nan],\n",
       "        [       nan,        nan,        nan, ...,        nan,\n",
       "                nan,        nan],\n",
       "        [       nan,        nan,        nan, ...,        nan,\n",
       "                nan,        nan],\n",
       "        ...,\n",
       "        [6.9556384 , 4.7818662 , 6.67820445, ..., 5.05602453,\n",
       "         7.40343447, 4.54640893],\n",
       "        [6.01998699, 4.64703778, 6.20849661, ..., 5.30683195,\n",
       "         5.86766248, 5.80607771],\n",
       "        [6.64726177, 5.52164343, 5.88951141, ..., 6.06055134,\n",
       "         6.27644111, 6.38209202]],\n",
       "\n",
       "       [[       nan,        nan,        nan, ...,        nan,\n",
       "                nan,        nan],\n",
       "        [       nan,        nan,        nan, ...,        nan,\n",
       "                nan,        nan],\n",
       "        [       nan,        nan,        nan, ...,        nan,\n",
       "                nan,        nan],\n",
       "...\n",
       "        [7.11719139, 6.05115766, 6.6950052 , ..., 7.23965882,\n",
       "         6.86566685, 6.75190119],\n",
       "        [7.21534117, 6.37355395, 6.21907899, ..., 7.00602938,\n",
       "         6.84224274, 6.55639612],\n",
       "        [7.50723884, 5.9175397 , 7.05925108, ..., 6.65157322,\n",
       "         6.48343606, 6.62049455]],\n",
       "\n",
       "       [[7.2559404 , 6.04057572, 6.64878312, ..., 5.92565649,\n",
       "         6.29928615, 6.23054768],\n",
       "        [6.13207546, 6.29520079, 6.57110529, ..., 5.99597801,\n",
       "         7.23010048, 6.68744215],\n",
       "        [6.47552157, 6.31492046, 7.32395889, ..., 6.67089557,\n",
       "         6.36237962, 5.80869864],\n",
       "        ...,\n",
       "        [6.55374124, 7.15726653, 7.0856577 , ..., 6.12884568,\n",
       "         6.79413933, 6.76655689],\n",
       "        [6.61730045, 5.26183029, 6.72384019, ..., 6.96161428,\n",
       "         6.71820601, 6.75330704],\n",
       "        [7.46702842, 7.06382315, 6.22807669, ..., 6.726741  ,\n",
       "         6.23800581, 6.91799153]]])</pre></div></li><li class='xr-var-item'><div class='xr-var-name'><span>gdp_per_capita</span></div><div class='xr-var-dims'>(region, time, uncertainty)</div><div class='xr-var-dtype'>float64</div><div class='xr-var-preview xr-preview'>nan nan nan ... 511.8 1.01e+03</div><input id='attrs-1a19e016-4b55-4a4c-bd3f-a8a44f4ca38d' class='xr-var-attrs-in' type='checkbox' disabled><label for='attrs-1a19e016-4b55-4a4c-bd3f-a8a44f4ca38d' title='Show/Hide attributes'><svg class='icon xr-icon-file-text2'><use xlink:href='#icon-file-text2'></use></svg></label><input id='data-54045085-6fca-4196-a2b6-f5402471a3e0' class='xr-var-data-in' type='checkbox'><label for='data-54045085-6fca-4196-a2b6-f5402471a3e0' title='Show/Hide data repr'><svg class='icon xr-icon-database'><use xlink:href='#icon-database'></use></svg></label><div class='xr-var-attrs'><dl class='xr-attrs'></dl></div><div class='xr-var-data'><pre>array([[[          nan,           nan,           nan, ...,\n",
       "                   nan,           nan,           nan],\n",
       "        [          nan,           nan,           nan, ...,\n",
       "                   nan,           nan,           nan],\n",
       "        [          nan,           nan,           nan, ...,\n",
       "                   nan,           nan,           nan],\n",
       "        ...,\n",
       "        [1049.04804015,  119.32682961,  794.89056189, ...,\n",
       "          156.96526341, 1641.61282323,   94.29318584],\n",
       "        [ 411.5732403 ,  104.27563976,  496.9535763 , ...,\n",
       "          201.7101866 ,  353.42188213,  332.31313765],\n",
       "        [ 770.67115569,  250.04563183,  361.22874835, ...,\n",
       "          428.61168073,  531.89234473,  591.1631384 ]],\n",
       "\n",
       "       [[          nan,           nan,           nan, ...,\n",
       "                   nan,           nan,           nan],\n",
       "        [          nan,           nan,           nan, ...,\n",
       "                   nan,           nan,           nan],\n",
       "        [          nan,           nan,           nan, ...,\n",
       "                   nan,           nan,           nan],\n",
       "...\n",
       "        [1232.98260297,  424.60429317,  808.35813434, ...,\n",
       "         1393.61841315,  958.78499127,  855.68403452],\n",
       "        [1360.13762907,  586.13723373,  502.24045254, ...,\n",
       "         1103.2651538 ,  936.58730637,  703.73095765],\n",
       "        [1821.17802755,  371.49659425, 1163.57342098, ...,\n",
       "          774.00104359,  654.21501113,  750.31607256]],\n",
       "\n",
       "       [[1416.49445541,  420.13484484,  771.84451223, ...,\n",
       "          374.52422542,  544.18330493,  508.03364731],\n",
       "        [ 460.39069295,  541.96465546,  714.15875702, ...,\n",
       "          401.80946691, 1380.3611932 ,  802.26754443],\n",
       "        [ 649.05767078,  552.75809436, 1516.19455541, ...,\n",
       "          789.1019875 ,  579.6240002 ,  333.18525048],\n",
       "        ...,\n",
       "        [ 701.86511251, 1283.3980064 , 1194.70873506, ...,\n",
       "          458.90613183,  892.60069521,  868.31703142],\n",
       "        [ 747.92331308,  192.83411044,  832.00644601, ...,\n",
       "         1055.33578936,  827.33195511,  856.88784345],\n",
       "        [1749.40046441, 1168.90553738,  506.77984924, ...,\n",
       "          834.42344437,  511.83679424, 1010.28881906]]])</pre></div></li></ul></div></li><li class='xr-section-item'><input id='section-2485c40a-0f81-4d59-ae21-5279925b4662' class='xr-section-summary-in' type='checkbox'  checked><label for='section-2485c40a-0f81-4d59-ae21-5279925b4662' class='xr-section-summary' >Attributes: <span>(7)</span></label><div class='xr-section-inline-details'></div><div class='xr-section-details'><dl class='xr-attrs'><dt><span>creation_date :</span></dt><dd>2022-08-22 08:03:36.494329</dd><dt><span>created_by :</span></dt><dd>Christopher Callahan, Christopher.W.Callahan.GR@dartmouth.edu</dd><dt><span>variable_description :</span></dt><dd>Predicted subnational region GDP per capita predicted using country GDP per capita and luminosity</dd><dt><span>created_from :</span></dt><dd>/dartfs-hpc/rc/lab/C/CMIG/ccallahan/Extremes_Economics/Scripts_v2/Predict_Regional_GDP.ipynb</dd><dt><span>dims :</span></dt><dd>region, time, uncertainty</dd><dt><span>uncertainty :</span></dt><dd>1000 monte carlo samples</dd><dt><span>inflation_adjustment :</span></dt><dd>constant 2010 dollars</dd></dl></div></li></ul></div></div>"
      ],
      "text/plain": [
       "<xarray.Dataset>\n",
       "Dimensions:             (region: 3610, time: 22, uncertainty: 1000)\n",
       "Coordinates:\n",
       "  * region              (region) object 'AFG.10_1' 'AFG.11_1' ... 'ZWE.9_1'\n",
       "  * time                (time) int64 1992 1993 1994 1995 ... 2010 2011 2012 2013\n",
       "  * uncertainty         (uncertainty) int64 1 2 3 4 5 6 ... 996 997 998 999 1000\n",
       "Data variables:\n",
       "    log_gdp_per_capita  (region, time, uncertainty) float64 nan nan ... 6.918\n",
       "    gdp_per_capita      (region, time, uncertainty) float64 nan nan ... 1.01e+03\n",
       "Attributes:\n",
       "    creation_date:         2022-08-22 08:03:36.494329\n",
       "    created_by:            Christopher Callahan, Christopher.W.Callahan.GR@da...\n",
       "    variable_description:  Predicted subnational region GDP per capita predic...\n",
       "    created_from:          /dartfs-hpc/rc/lab/C/CMIG/ccallahan/Extremes_Econo...\n",
       "    dims:                  region, time, uncertainty\n",
       "    uncertainty:           1000 monte carlo samples\n",
       "    inflation_adjustment:  constant 2010 dollars"
      ]
     },
     "execution_count": 37,
     "metadata": {},
     "output_type": "execute_result"
    }
   ],
   "source": [
    "regional_income"
   ]
  },
  {
   "cell_type": "markdown",
   "metadata": {},
   "source": [
    "Also write out summary statistics for csv"
   ]
  },
  {
   "cell_type": "code",
   "execution_count": 62,
   "metadata": {},
   "outputs": [
    {
     "name": "stderr",
     "output_type": "stream",
     "text": [
      "/dartfs-hpc/rc/home/y/f003k8y/.conda/envs/ccallahan/lib/python3.7/site-packages/xarray/core/nanops.py:142: RuntimeWarning: Mean of empty slice\n",
      "  return np.nanmean(a, axis=axis, dtype=dtype)\n"
     ]
    }
   ],
   "source": [
    "gdp_mean = regional_gdppc.mean(dim=\"uncertainty\")\n",
    "gdp_std = regional_gdppc.std(dim=\"uncertainty\")\n",
    "#gdp_ci_lower = regional_gdppc.quantile(0.025,dim=\"uncertainty\").drop(\"quantile\")\n",
    "#gdp_ci_upper = regional_gdppc.quantile(0.975,dim=\"uncertainty\").drop(\"quantile\")\n",
    "\n",
    "gdp_mean.name = \"gdp_percapita_mean\"\n",
    "gdp_std.name = \"gdp_percapita_std\"\n",
    "#gdp_ci_lower.name = \"gdp_ci_2.5\"\n",
    "#gdp_ci_upper.name = \"gdp_ci_97.5\"\n",
    "\n",
    "regional_income_df = gdp_mean.to_dataframe().reset_index()\n",
    "regional_income_df = pd.merge(regional_income_df,gdp_std.to_dataframe().reset_index(),how=\"left\",on=[\"iso\",\"region\",\"time\"])\n",
    "#regional_income_df = pd.merge(regional_income_df,gdp_ci_lower.to_dataframe().reset_index(),how=\"left\",on=[\"iso\",\"region\",\"time\"])\n",
    "#regional_income_df = pd.merge(regional_income_df,gdp_ci_upper.to_dataframe().reset_index(),how=\"left\",on=[\"iso\",\"region\",\"time\"])\n",
    "\n",
    "regional_income_df.to_csv(loc_out+\"adm1_subnational_constant2010_gdp_percapita_predicted_summarystats_\"+str(y1)+\"-\"+str(y2)+\".csv\")"
   ]
  }
 ],
 "metadata": {
  "kernelspec": {
   "display_name": "Python ccallahan",
   "language": "python",
   "name": "ccallahan"
  },
  "language_info": {
   "codemirror_mode": {
    "name": "ipython",
    "version": 3
   },
   "file_extension": ".py",
   "mimetype": "text/x-python",
   "name": "python",
   "nbconvert_exporter": "python",
   "pygments_lexer": "ipython3",
   "version": "3.7.3"
  }
 },
 "nbformat": 4,
 "nbformat_minor": 2
}
